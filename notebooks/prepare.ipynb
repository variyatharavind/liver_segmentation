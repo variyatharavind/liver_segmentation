{
 "cells": [
  {
   "cell_type": "markdown",
   "id": "9c0b75f4",
   "metadata": {},
   "source": [
    "If number of slices are not equal we need to do some processing so that input is consistent for the Neural Network <br>\n",
    "1. Convert each NIFTI file into a folder of DICOMs <br>\n",
    "2. Split DICOMs into groups of 64 (try doing for 16, 32, 64, 128 and see results) <br>\n",
    "3. Convert groups into NIFTI files <br>"
   ]
  },
  {
   "cell_type": "markdown",
   "id": "86a2d216",
   "metadata": {},
   "source": [
    "<h3> File Structure <br></h3>\n",
    "&minus; Liver Segmentation <br>\n",
    "&emsp;&minus; Original <br>\n",
    "&emsp;&emsp;&minus; training <br>\n",
    "&emsp;&emsp;&minus; segmentation <br>\n",
    "&emsp;&minus; DICOM Series <br>\n",
    "&emsp;&emsp;&minus; training <br>\n",
    "&emsp;&emsp;&minus; segmentation <br>\n",
    "&emsp;&minus; DICOM Group <br>\n",
    "&emsp;&emsp;&minus; training <br>\n",
    "&emsp;&emsp;&minus; segmentation <br>\n",
    "&emsp;&minus; NIfTI <br>\n",
    "&emsp;&emsp;&minus; Images <br>\n",
    "&emsp;&emsp;&minus; Labels <br>"
   ]
  },
  {
   "cell_type": "markdown",
   "id": "939eb835",
   "metadata": {},
   "source": [
    "<h1>1. Convert NIfTI file to DICOM slices</h1>"
   ]
  },
  {
   "cell_type": "markdown",
   "id": "cd988cd6",
   "metadata": {},
   "source": [
    "%pip install nibabel <br>\n",
    "%pip install pydicom <br>\n",
    "%pip install numpy <br>\n"
   ]
  },
  {
   "cell_type": "code",
   "execution_count": 29,
   "id": "1fda51d9",
   "metadata": {},
   "outputs": [],
   "source": [
    "import nibabel\n",
    "import pydicom\n",
    "import numpy as np\n",
    "import os\n",
    "import shutil\n",
    "from glob import glob"
   ]
  },
  {
   "cell_type": "code",
   "execution_count": null,
   "id": "b967c4df",
   "metadata": {},
   "outputs": [],
   "source": [
    "def convertNsave(arr, file_dir, index):\n",
    "\n",
    "    dicom_file = pydicom.dcmread('../images/sampleDICOM.dcm')\n",
    "    arr = arr.astype('uint16')\n",
    "    dicom_file.Rows = arr.shape[0]\n",
    "    dicom_file.Columns = arr.shape[1]\n",
    "    dicom_file.PhotometricInterpretation = \"MONOCHROME2\"\n",
    "    dicom_file.SamplesPerPixel = 1\n",
    "    dicom_file.BitsStored = 16\n",
    "    dicom_file.BitsAllocated = 16\n",
    "    dicom_file.HighBit = 15\n",
    "    dicom_file.PixelRepresentation = 1\n",
    "    dicom_file.PixelData = arr.tobytes()\n",
    "    dicom_file.save_as(os.path.join(file_dir, f'slice{index}.dcm'))"
   ]
  },
  {
   "cell_type": "code",
   "execution_count": null,
   "id": "163f875d",
   "metadata": {},
   "outputs": [],
   "source": [
    "def nifti2dicom(nifti_dir, out_dir):\n",
    "\n",
    "    files = os.listdir(nifti_dir)\n",
    "    for file in glob(nifti_dir + '/*'):\n",
    "        filename = os.path.splitext(os.path.basename(file))[0]\n",
    "        out_path = os.path.join(out_dir, filename)\n",
    "        os.mkdir(out_path)\n",
    "\n",
    "        nifti_file = nibabel.load(file)\n",
    "        nifti_array = nifti_file.get_fdata()\n",
    "        number_slices = nifti_array.shape[2]\n",
    "        \n",
    "        for slice in range(number_slices):\n",
    "            convertNsave(nifti_array[:,:,slice], out_path, slice)"
   ]
  },
  {
   "cell_type": "markdown",
   "id": "2d98cbe4",
   "metadata": {},
   "source": [
    "Move all the training files from separate volumes into one folder"
   ]
  },
  {
   "cell_type": "code",
   "execution_count": null,
   "id": "61386950",
   "metadata": {},
   "outputs": [],
   "source": [
    "in_path = 'D:/Datasets/LiverSegmentation/Original/training'\n",
    "\n",
    "for volume in os.listdir(in_path):\n",
    "    path = os.path.join(in_path, volume)\n",
    "    for file in os.listdir(path):\n",
    "        shutil.move(os.path.join(path, file), in_path)\n",
    "    shutil.rmtree(path)"
   ]
  },
  {
   "cell_type": "code",
   "execution_count": null,
   "id": "a4071e4a",
   "metadata": {},
   "outputs": [],
   "source": [
    "nifti2dicom('D:/Datasets/LiverSegmentation/Original/training', 'D:/Datasets/LiverSegmentation/DICOM/training')\n",
    "nifti2dicom('D:/Datasets/LiverSegmentation/Original/segmentations', 'D:/Datasets/LiverSegmentation/DICOM/segmentations')"
   ]
  },
  {
   "cell_type": "markdown",
   "id": "ccc8316e",
   "metadata": {},
   "source": [
    "Delete the original data to save space on disk"
   ]
  },
  {
   "cell_type": "code",
   "execution_count": null,
   "id": "4a2d2245",
   "metadata": {},
   "outputs": [],
   "source": [
    "shutil.rmtree('D:/Datasets/LiverSegmentation/Original')"
   ]
  },
  {
   "cell_type": "markdown",
   "id": "d327f29c",
   "metadata": {},
   "source": [
    "<h1>2. Creating group of DICOM slices</h1>"
   ]
  },
  {
   "cell_type": "markdown",
   "id": "d6a3f3bc",
   "metadata": {},
   "source": [
    "%pip install glob2 <br>\n",
    "%pip install pytest-shutil"
   ]
  },
  {
   "cell_type": "code",
   "execution_count": null,
   "id": "440a541e",
   "metadata": {},
   "outputs": [],
   "source": [
    "from glob import glob\n",
    "import shutil\n",
    "import os"
   ]
  },
  {
   "cell_type": "code",
   "execution_count": null,
   "id": "4e80ada8",
   "metadata": {},
   "outputs": [],
   "source": [
    "def createGroups(in_path, out_path, group_size):\n",
    "    for patient in glob(in_path + '/*'):\n",
    "        patient_name = os.path.basename(os.path.normpath(patient))\n",
    "        num_groups = int(len(glob(patient + '/*')) / group_size)\n",
    "        \n",
    "        for i in range(num_groups):\n",
    "            output_path = os.path.join(out_path, patient_name + '_' + str(i))\n",
    "            os.mkdir(output_path)\n",
    "            \n",
    "            for index, file in enumerate(glob(patient + '/*')):\n",
    "                if index == group_size:\n",
    "                    break\n",
    "                shutil.move(file, output_path)"
   ]
  },
  {
   "cell_type": "code",
   "execution_count": null,
   "id": "1c2a614e",
   "metadata": {},
   "outputs": [],
   "source": [
    "group_size = 64\n",
    "\n",
    "createGroups('D:/Datasets/LiverSegmentation/DICOM/training', 'D:/Datasets/LiverSegmentation/Groups/training', group_size)\n",
    "createGroups('D:/Datasets/LiverSegmentation/DICOM/segmentations','D:/Datasets/LiverSegmentation/Groups/segmentations', group_size)"
   ]
  },
  {
   "cell_type": "markdown",
   "id": "8ff83cf3",
   "metadata": {},
   "source": [
    "Delete the leftover DICOM files that are not in any group to save space on disk"
   ]
  },
  {
   "cell_type": "code",
   "execution_count": null,
   "id": "7189aedb",
   "metadata": {},
   "outputs": [],
   "source": [
    "shutil.rmtree('D:/Datasets/LiverSegmentation/DICOM')"
   ]
  },
  {
   "cell_type": "markdown",
   "id": "f06294ad",
   "metadata": {},
   "source": [
    "Groups will be created for the lower multiple of group_size. The remaining files will be discarded (total % group_size), however this should not affect final results (Can try other batch sizes and see difference)"
   ]
  },
  {
   "cell_type": "markdown",
   "id": "350827f9",
   "metadata": {},
   "source": [
    "<h1>3. Converting DICOM Group to NIfTI</h1>"
   ]
  },
  {
   "cell_type": "markdown",
   "id": "811869e4",
   "metadata": {},
   "source": [
    "%pip install dicom2nifti"
   ]
  },
  {
   "cell_type": "code",
   "execution_count": null,
   "id": "bed8dbd8",
   "metadata": {},
   "outputs": [],
   "source": [
    "import dicom2nifti"
   ]
  },
  {
   "cell_type": "code",
   "execution_count": null,
   "id": "0ac9d862",
   "metadata": {},
   "outputs": [],
   "source": [
    "def convertToNifti(in_path, out_path):\n",
    "    list = glob(in_path + '/*')\n",
    "    for patient in list:\n",
    "        patient_name = os.path.basename(os.path.normpath(patient))\n",
    "        dicom2nifti.dicom_series_to_nifti(patient, os.path.join(out_path, patient_name + '.nii.gz'))"
   ]
  },
  {
   "cell_type": "code",
   "execution_count": null,
   "id": "c8d69d86",
   "metadata": {},
   "outputs": [],
   "source": [
    "convertToNifti('D:/Datasets/LiverSegmentation/Groups/training', 'D:/Datasets/LiverSegmentation/NIfTI/images')\n",
    "convertToNifti('D:/Datasets/LiverSegmentation/Groups/segmentations', 'D:/Datasets/LiverSegmentation/NIfTI/labels')"
   ]
  },
  {
   "cell_type": "markdown",
   "id": "acce9a4f",
   "metadata": {},
   "source": [
    "Delete the DICOM groups to save space on disk"
   ]
  },
  {
   "cell_type": "code",
   "execution_count": null,
   "id": "ba07c424",
   "metadata": {},
   "outputs": [],
   "source": [
    "shutil.rmtree('D:/Datasets/LiverSegmentation/Groups')"
   ]
  },
  {
   "cell_type": "markdown",
   "id": "4a3e7339",
   "metadata": {},
   "source": [
    "<h1> Finding Empty Labels </h1> <br>\n",
    "Some NIfTI files may not have any segmentation in them, that is, they contain only background pixels, which will cause a problem to the learning algorithm. To remove such files, we check every label NIfTI file. If it contains just one label, that is 0 (background), we will delete that label and its corresponding image file"
   ]
  },
  {
   "cell_type": "code",
   "execution_count": null,
   "id": "6a9452bc",
   "metadata": {},
   "outputs": [],
   "source": [
    "path_labels = 'D:/Datasets/LiverSegmentation/NIfTI/labels/*'\n",
    "path_images = 'D:/Datasets/LiverSegmentation/NIfTI/images'\n",
    "list_labels = glob(path_labels)\n",
    "\n",
    "for patient in list_labels:\n",
    "    nifti_file = nibabel.load(patient)\n",
    "    nifti_array = nifti_file.get_fdata()\n",
    "    num_labels = len(np.unique(nifti_array))\n",
    "    if num_labels == 1:\n",
    "        group_name = os.path.basename(patient)\n",
    "        image_path = os.path.join(path_images, group_name)\n",
    "        os.remove(patient)\n",
    "        os.remove(image_path)"
   ]
  }
 ],
 "metadata": {
  "kernelspec": {
   "display_name": "Python 3 (ipykernel)",
   "language": "python",
   "name": "python3"
  },
  "language_info": {
   "codemirror_mode": {
    "name": "ipython",
    "version": 3
   },
   "file_extension": ".py",
   "mimetype": "text/x-python",
   "name": "python",
   "nbconvert_exporter": "python",
   "pygments_lexer": "ipython3",
   "version": "3.9.7"
  }
 },
 "nbformat": 4,
 "nbformat_minor": 5
}
